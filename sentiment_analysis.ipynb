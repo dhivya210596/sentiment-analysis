{
 "cells": [
  {
   "cell_type": "code",
   "execution_count": 9,
   "id": "bd988c28",
   "metadata": {},
   "outputs": [
    {
     "name": "stdout",
     "output_type": "stream",
     "text": [
      "Requirement already satisfied: numpy in c:\\users\\dell\\appdata\\local\\programs\\python\\python313\\lib\\site-packages (2.2.6)\n",
      "Requirement already satisfied: pandas in c:\\users\\dell\\appdata\\local\\programs\\python\\python313\\lib\\site-packages (2.3.2)\n",
      "Requirement already satisfied: seaborn in c:\\users\\dell\\appdata\\local\\programs\\python\\python313\\lib\\site-packages (0.13.2)\n",
      "Requirement already satisfied: scikit-learn in c:\\users\\dell\\appdata\\local\\programs\\python\\python313\\lib\\site-packages (1.7.1)\n",
      "Requirement already satisfied: flask in c:\\users\\dell\\appdata\\local\\programs\\python\\python313\\lib\\site-packages (3.1.2)\n",
      "Requirement already satisfied: python-dateutil>=2.8.2 in c:\\users\\dell\\appdata\\local\\programs\\python\\python313\\lib\\site-packages (from pandas) (2.9.0.post0)\n",
      "Requirement already satisfied: pytz>=2020.1 in c:\\users\\dell\\appdata\\local\\programs\\python\\python313\\lib\\site-packages (from pandas) (2025.2)\n",
      "Requirement already satisfied: tzdata>=2022.7 in c:\\users\\dell\\appdata\\local\\programs\\python\\python313\\lib\\site-packages (from pandas) (2025.2)\n",
      "Requirement already satisfied: matplotlib!=3.6.1,>=3.4 in c:\\users\\dell\\appdata\\local\\programs\\python\\python313\\lib\\site-packages (from seaborn) (3.10.6)\n",
      "Requirement already satisfied: scipy>=1.8.0 in c:\\users\\dell\\appdata\\local\\programs\\python\\python313\\lib\\site-packages (from scikit-learn) (1.16.1)\n",
      "Requirement already satisfied: joblib>=1.2.0 in c:\\users\\dell\\appdata\\local\\programs\\python\\python313\\lib\\site-packages (from scikit-learn) (1.5.2)\n",
      "Requirement already satisfied: threadpoolctl>=3.1.0 in c:\\users\\dell\\appdata\\local\\programs\\python\\python313\\lib\\site-packages (from scikit-learn) (3.6.0)\n",
      "Requirement already satisfied: blinker>=1.9.0 in c:\\users\\dell\\appdata\\local\\programs\\python\\python313\\lib\\site-packages (from flask) (1.9.0)\n",
      "Requirement already satisfied: click>=8.1.3 in c:\\users\\dell\\appdata\\local\\programs\\python\\python313\\lib\\site-packages (from flask) (8.2.1)\n",
      "Requirement already satisfied: itsdangerous>=2.2.0 in c:\\users\\dell\\appdata\\local\\programs\\python\\python313\\lib\\site-packages (from flask) (2.2.0)\n",
      "Requirement already satisfied: jinja2>=3.1.2 in c:\\users\\dell\\appdata\\local\\programs\\python\\python313\\lib\\site-packages (from flask) (3.1.6)\n",
      "Requirement already satisfied: markupsafe>=2.1.1 in c:\\users\\dell\\appdata\\local\\programs\\python\\python313\\lib\\site-packages (from flask) (3.0.2)\n",
      "Requirement already satisfied: werkzeug>=3.1.0 in c:\\users\\dell\\appdata\\local\\programs\\python\\python313\\lib\\site-packages (from flask) (3.1.3)\n",
      "Requirement already satisfied: colorama in c:\\users\\dell\\appdata\\local\\programs\\python\\python313\\lib\\site-packages (from click>=8.1.3->flask) (0.4.6)\n",
      "Requirement already satisfied: contourpy>=1.0.1 in c:\\users\\dell\\appdata\\local\\programs\\python\\python313\\lib\\site-packages (from matplotlib!=3.6.1,>=3.4->seaborn) (1.3.3)\n",
      "Requirement already satisfied: cycler>=0.10 in c:\\users\\dell\\appdata\\local\\programs\\python\\python313\\lib\\site-packages (from matplotlib!=3.6.1,>=3.4->seaborn) (0.12.1)\n",
      "Requirement already satisfied: fonttools>=4.22.0 in c:\\users\\dell\\appdata\\local\\programs\\python\\python313\\lib\\site-packages (from matplotlib!=3.6.1,>=3.4->seaborn) (4.59.2)\n",
      "Requirement already satisfied: kiwisolver>=1.3.1 in c:\\users\\dell\\appdata\\local\\programs\\python\\python313\\lib\\site-packages (from matplotlib!=3.6.1,>=3.4->seaborn) (1.4.9)\n",
      "Requirement already satisfied: packaging>=20.0 in c:\\users\\dell\\appdata\\local\\programs\\python\\python313\\lib\\site-packages (from matplotlib!=3.6.1,>=3.4->seaborn) (25.0)\n",
      "Requirement already satisfied: pillow>=8 in c:\\users\\dell\\appdata\\local\\programs\\python\\python313\\lib\\site-packages (from matplotlib!=3.6.1,>=3.4->seaborn) (11.3.0)\n",
      "Requirement already satisfied: pyparsing>=2.3.1 in c:\\users\\dell\\appdata\\local\\programs\\python\\python313\\lib\\site-packages (from matplotlib!=3.6.1,>=3.4->seaborn) (3.2.3)\n",
      "Requirement already satisfied: six>=1.5 in c:\\users\\dell\\appdata\\local\\programs\\python\\python313\\lib\\site-packages (from python-dateutil>=2.8.2->pandas) (1.17.0)\n",
      "Note: you may need to restart the kernel to use updated packages.\n"
     ]
    },
    {
     "name": "stderr",
     "output_type": "stream",
     "text": [
      "\n",
      "[notice] A new release of pip is available: 25.2 -> 25.3\n",
      "[notice] To update, run: python.exe -m pip install --upgrade pip\n"
     ]
    }
   ],
   "source": [
    "%pip install numpy pandas seaborn scikit-learn flask\n",
    "\n"
   ]
  },
  {
   "cell_type": "code",
   "execution_count": 14,
   "id": "5d9d11e4",
   "metadata": {},
   "outputs": [
    {
     "name": "stdout",
     "output_type": "stream",
     "text": [
      "   userId                    title  rating\n",
      "0       1         Toy Story (1995)       5\n",
      "1       1           Jumanji (1995)       3\n",
      "2       1  Grumpier Old Men (1995)       4\n",
      "3       2         Toy Story (1995)       4\n",
      "4       2              Heat (1995)       5\n"
     ]
    }
   ],
   "source": [
    "import pandas as pd\n",
    "\n",
    "# Creating a simple sample dataset\n",
    "data = {\n",
    "    'userId': [1, 1, 1, 2, 2, 3, 3, 4, 4, 5],\n",
    "    'title': [\n",
    "        'Toy Story (1995)', 'Jumanji (1995)', 'Grumpier Old Men (1995)',\n",
    "        'Toy Story (1995)', 'Heat (1995)',\n",
    "        'Jumanji (1995)', 'Heat (1995)',\n",
    "        'Toy Story (1995)', 'Sabrina (1995)',\n",
    "        'Heat (1995)'\n",
    "    ],\n",
    "    'rating': [5, 3, 4, 4, 5, 2, 4, 5, 3, 5]\n",
    "}\n",
    "\n",
    "df = pd.DataFrame(data)\n",
    "print(df.head())\n",
    "\n"
   ]
  },
  {
   "cell_type": "code",
   "execution_count": 15,
   "id": "91d28117",
   "metadata": {},
   "outputs": [
    {
     "name": "stdout",
     "output_type": "stream",
     "text": [
      "title   Grumpier Old Men (1995)  Heat (1995)  Jumanji (1995)  Sabrina (1995)  \\\n",
      "userId                                                                         \n",
      "1                           4.0          0.0             3.0             0.0   \n",
      "2                           0.0          5.0             0.0             0.0   \n",
      "3                           0.0          4.0             2.0             0.0   \n",
      "4                           0.0          0.0             0.0             3.0   \n",
      "5                           0.0          5.0             0.0             0.0   \n",
      "\n",
      "title   Toy Story (1995)  \n",
      "userId                    \n",
      "1                    5.0  \n",
      "2                    4.0  \n",
      "3                    0.0  \n",
      "4                    5.0  \n",
      "5                    0.0  \n"
     ]
    }
   ],
   "source": [
    "#Step 3: Data Wrangling (User-Movie Matrix)\n",
    "\n",
    "#We’ll create a pivot table showing users as rows and movies as columns.\n",
    "\n",
    "movie_matrix = df.pivot_table(index='userId', columns='title', values='rating')\n",
    "movie_matrix.fillna(0, inplace=True)\n",
    "print(movie_matrix.head())\n",
    "\n"
   ]
  },
  {
   "cell_type": "code",
   "execution_count": 16,
   "id": "47b2a3bc",
   "metadata": {},
   "outputs": [
    {
     "data": {
      "image/png": "[encoded data removed]",
      "text/plain": [
       "<Figure size 640x480 with 1 Axes>"
      ]
     },
     "metadata": {},
     "output_type": "display_data"
    }
   ],
   "source": [
    "import seaborn as sns\n",
    "import matplotlib.pyplot as plt\n",
    "\n",
    "# Average rating per movie\n",
    "avg_ratings = df.groupby('title')['rating'].mean().sort_values(ascending=False)\n",
    "\n",
    "# Barplot of top-rated movies\n",
    "sns.barplot(x=avg_ratings.values[:5], y=avg_ratings.index[:5])\n",
    "plt.title(\"Top 5 Highest Rated Movies\")\n",
    "plt.show()\n",
    "\n"
   ]
  },
  {
   "cell_type": "code",
   "execution_count": 17,
   "id": "c3138ee1",
   "metadata": {},
   "outputs": [
    {
     "name": "stdout",
     "output_type": "stream",
     "text": [
      "['Grumpier Old Men (1995)', 'Sabrina (1995)', 'Jumanji (1995)', 'Heat (1995)']\n"
     ]
    }
   ],
   "source": [
    "#Step 5: Build the Recommendation Model\n",
    "\n",
    "#We’ll use Cosine Similarity from Scikit-learn to find movies with similar rating patterns.\n",
    "\n",
    "from sklearn.metrics.pairwise import cosine_similarity\n",
    "\n",
    "# Compute similarity matrix\n",
    "cosine_sim = cosine_similarity(movie_matrix.T)\n",
    "similarity_df = pd.DataFrame(cosine_sim, index=movie_matrix.columns, columns=movie_matrix.columns)\n",
    "\n",
    "# Recommendation function\n",
    "def recommend(movie_name):\n",
    "    if movie_name not in similarity_df.columns:\n",
    "        return [\"Movie not found!\"]\n",
    "    similar_scores = similarity_df[movie_name].sort_values(ascending=False)[1:6]\n",
    "    return list(similar_scores.index)\n",
    "\n",
    "# Example test\n",
    "print(recommend('Toy Story (1995)'))\n",
    "\n"
   ]
  },
  {
   "cell_type": "code",
   "execution_count": 18,
   "id": "80a6b8a4",
   "metadata": {},
   "outputs": [],
   "source": [
    "#Step 6: Save & Load the Model\n",
    "\n",
    "#Save the movie similarity DataFrame for use in Flask.\n",
    "\n",
    "movie_matrix.to_csv('movie_matrix.csv', index=True)\n",
    "similarity_df.to_csv('similarity.csv', index=True)\n",
    "\n"
   ]
  }
 ],
 "metadata": {
  "kernelspec": {
   "display_name": "Python 3",
   "language": "python",
   "name": "python3"
  },
  "language_info": {
   "codemirror_mode": {
    "name": "ipython",
    "version": 3
   },
   "file_extension": ".py",
   "mimetype": "text/x-python",
   "name": "python",
   "nbconvert_exporter": "python",
   "pygments_lexer": "ipython3",
   "version": "3.13.5"
  }
 },
 "nbformat": 4,
 "nbformat_minor": 5
}
